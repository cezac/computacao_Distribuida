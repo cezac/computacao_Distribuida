{
  "nbformat": 4,
  "nbformat_minor": 0,
  "metadata": {
    "colab": {
      "provenance": [],
      "include_colab_link": true
    },
    "kernelspec": {
      "name": "python3",
      "display_name": "Python 3"
    },
    "language_info": {
      "name": "python"
    }
  },
  "cells": [
    {
      "cell_type": "markdown",
      "metadata": {
        "id": "view-in-github",
        "colab_type": "text"
      },
      "source": [
        "<a href=\"https://colab.research.google.com/github/cezac/computacao_Distribuida/blob/main/C%C3%B3pia_de_runningMPI_in_Colab.ipynb\" target=\"_parent\"><img src=\"https://colab.research.google.com/assets/colab-badge.svg\" alt=\"Open In Colab\"/></a>"
      ]
    },
    {
      "cell_type": "code",
      "source": [
        "!mpicc -o teste-mpi teste-mpi.c"
      ],
      "metadata": {
        "id": "e2YZ_O_e8y9s"
      },
      "execution_count": 17,
      "outputs": []
    },
    {
      "cell_type": "code",
      "source": [
        "! mpirun -n 4 -H  localhost,localhost,localhost,localhost --allow-run-as-root ./teste-mpi"
      ],
      "metadata": {
        "colab": {
          "base_uri": "https://localhost:8080/"
        },
        "id": "5uhhc2F0kD2Y",
        "outputId": "7722caf6-72a9-46f0-eb36-8209050d298c"
      },
      "execution_count": 18,
      "outputs": [
        {
          "output_type": "stream",
          "name": "stdout",
          "text": [
            "Valor 135862 encontrado na posição 10.\n"
          ]
        }
      ]
    },
    {
      "cell_type": "code",
      "source": [
        "%%writefile teste-mpi.c\n",
        "#include \"mpi.h\"\n",
        "#include <stdio.h>\n",
        "#include <math.h>\n",
        "#include <unistd.h>\n",
        "#include <stdlib.h>\n",
        "\n",
        "#define MAXSIZE 65536 // Valor de 2^16\n",
        "\n",
        "int main(int argc, char **argv) {\n",
        "    int myid, numprocs;\n",
        "    int data[MAXSIZE], i, x, low, high;\n",
        "\t\tint target = 135862; // Valor buscado no vetor\n",
        "    int found = 0; // Variável para indicar se o valor foi encontrado\n",
        "    int found_index = -1; // Variável para armazenar a posição do valor encontrado\n",
        "    FILE *fp;\n",
        "    MPI_Init(&argc, &argv);\n",
        "    MPI_Comm_size(MPI_COMM_WORLD, &numprocs);\n",
        "    MPI_Comm_rank(MPI_COMM_WORLD, &myid);\n",
        "\n",
        "    if (myid == 0) {  /* Open input file and initialize data */\n",
        "        if ((fp = fopen(\"vetor1.csv\", \"r\")) == NULL) {\n",
        "            printf(\"Não foi possível abrir o arquivo: vetor1.csv\\n\\n\");\n",
        "            exit(1);\n",
        "        }\n",
        "        for(i = 0; i < MAXSIZE; i++) fscanf(fp, \"%d\\n\", &data[i]);\n",
        "    }\n",
        "\n",
        "    MPI_Bcast(data, MAXSIZE, MPI_INT, 0, MPI_COMM_WORLD); /* broadcast data */\n",
        "\n",
        "    x = MAXSIZE / numprocs; /* Add my portion of data */\n",
        "    low = myid * x;\n",
        "    high = low + x;\n",
        "\n",
        "    for (i = low; i < high; i++) {\n",
        "        if (data[i] == target) {\n",
        "            found = 1; // Indica que o valor foi encontrado\n",
        "            found_index = i; // Armazena a posição do valor encontrado\n",
        "            break; // Não é necessário continuar procurando\n",
        "        }\n",
        "    }\n",
        "\n",
        "    // Envia o resultado para o processo \"Master\"\n",
        "    if (myid != 0) {\n",
        "        MPI_Send(&found, 1, MPI_INT, 0, 0, MPI_COMM_WORLD);\n",
        "        MPI_Send(&found_index, 1, MPI_INT, 0, 0, MPI_COMM_WORLD);\n",
        "    } else {\n",
        "        for (int proc = 1; proc < numprocs; proc++) {\n",
        "            int temp_found, temp_index;\n",
        "            MPI_Recv(&temp_found, 1, MPI_INT, proc, 0, MPI_COMM_WORLD, MPI_STATUS_IGNORE);\n",
        "            MPI_Recv(&temp_index, 1, MPI_INT, proc, 0, MPI_COMM_WORLD, MPI_STATUS_IGNORE);\n",
        "            if (temp_found) {\n",
        "                found = 1;\n",
        "                found_index = temp_index;\n",
        "                break;\n",
        "            }\n",
        "        }\n",
        "\n",
        "        if (found) {\n",
        "            printf(\"Valor %d encontrado na posição %d.\\n\", target, found_index);\n",
        "        } else {\n",
        "            printf(\"Valor %d não encontrado.\\n\", target);\n",
        "        }\n",
        "    }\n",
        "\n",
        "    MPI_Finalize();\n",
        "    return 0;\n",
        "}"
      ],
      "metadata": {
        "id": "IjyITTZb8X4b",
        "colab": {
          "base_uri": "https://localhost:8080/"
        },
        "outputId": "98cda391-14ca-4ec4-f4e1-01b9f527983a"
      },
      "execution_count": 16,
      "outputs": [
        {
          "output_type": "stream",
          "name": "stdout",
          "text": [
            "Overwriting teste-mpi.c\n"
          ]
        }
      ]
    },
    {
      "cell_type": "code",
      "execution_count": 9,
      "metadata": {
        "id": "wT_CNHAL8KG_",
        "colab": {
          "base_uri": "https://localhost:8080/"
        },
        "outputId": "5fdf2cfe-a4dc-4025-ff60-cb95af64a956"
      },
      "outputs": [
        {
          "output_type": "stream",
          "name": "stdout",
          "text": [
            "Reading package lists... Done\n",
            "Building dependency tree... Done\n",
            "Reading state information... Done\n",
            "libopenmpi-dev is already the newest version (4.1.2-2ubuntu1).\n",
            "openmpi-bin is already the newest version (4.1.2-2ubuntu1).\n",
            "openmpi-common is already the newest version (4.1.2-2ubuntu1).\n",
            "0 upgraded, 0 newly installed, 0 to remove and 16 not upgraded.\n"
          ]
        }
      ],
      "source": [
        "!apt install openmpi-bin openmpi-common libopenmpi-dev"
      ]
    }
  ]
}