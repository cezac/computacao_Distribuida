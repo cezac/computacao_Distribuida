{
  "nbformat": 4,
  "nbformat_minor": 0,
  "metadata": {
    "colab": {
      "name": "runningMPI-in-Colab.ipynb",
      "provenance": [],
      "toc_visible": true,
      "include_colab_link": true
    },
    "kernelspec": {
      "name": "python3",
      "display_name": "Python 3"
    },
    "language_info": {
      "name": "python"
    }
  },
  "cells": [
    {
      "cell_type": "markdown",
      "metadata": {
        "id": "view-in-github",
        "colab_type": "text"
      },
      "source": [
        "<a href=\"https://colab.research.google.com/github/cezac/computacao_Distribuida/blob/main/runningMPI_in_Colab.ipynb\" target=\"_parent\"><img src=\"https://colab.research.google.com/assets/colab-badge.svg\" alt=\"Open In Colab\"/></a>"
      ]
    },
    {
      "cell_type": "code",
      "execution_count": 1,
      "metadata": {
        "id": "wT_CNHAL8KG_",
        "outputId": "dfb2f724-434c-45e2-af4c-42440cdd0e6f",
        "colab": {
          "base_uri": "https://localhost:8080/"
        }
      },
      "outputs": [
        {
          "output_type": "stream",
          "name": "stdout",
          "text": [
            "Reading package lists... Done\n",
            "Building dependency tree... Done\n",
            "Reading state information... Done\n",
            "libopenmpi-dev is already the newest version (4.1.2-2ubuntu1).\n",
            "openmpi-bin is already the newest version (4.1.2-2ubuntu1).\n",
            "openmpi-bin set to manually installed.\n",
            "openmpi-common is already the newest version (4.1.2-2ubuntu1).\n",
            "openmpi-common set to manually installed.\n",
            "0 upgraded, 0 newly installed, 0 to remove and 16 not upgraded.\n"
          ]
        }
      ],
      "source": [
        "!apt install openmpi-bin openmpi-common libopenmpi-dev"
      ]
    },
    {
      "cell_type": "code",
      "source": [
        "%%writefile teste-mpi.c\n",
        "#include \"mpi.h\"\n",
        "#include <stdio.h>\n",
        "#include <math.h>\n",
        "#include <unistd.h>\n",
        "#include <stdlib.h>\n",
        "\n",
        "#define MAXSIZE 1000\n",
        "int main(int argc, char **argv)\n",
        "{\n",
        "\tint myid, numprocs;\n",
        "\tint data[MAXSIZE], i, x, low, high, myresult=0, result=0;\n",
        "\tFILE *fp;\n",
        "\tMPI_Init(&argc,&argv);\n",
        "\tMPI_Comm_size(MPI_COMM_WORLD,&numprocs);\n",
        "\tMPI_Comm_rank(MPI_COMM_WORLD,&myid);\n",
        "\tif (myid == 0) {  /* Open input file and initialize data */\n",
        "\t\tif ((fp = fopen(\"rand.txt\",\"r\")) == NULL) {\n",
        "\t\t\tprintf(\"Can't open the input file: rand.txt\\n\\n\");\n",
        "\t\t\texit(1);\n",
        "\t\t}\n",
        "\t\tfor(i = 0; i < MAXSIZE; i++) fscanf(fp,\"%d\\n\", &data[i]);\n",
        "\t}\n",
        "\tMPI_Bcast(data, MAXSIZE, MPI_INT, 0, MPI_COMM_WORLD); /* broadcast data */\n",
        "\tx = MAXSIZE/numprocs; /* Add my portion Of data */\n",
        "\tlow = myid * x;\n",
        "\thigh = low + x;\n",
        "\tfor(i = low; i < high; i++)\n",
        "\t\tmyresult += data[i];\n",
        "\tchar hostname[30];\n",
        "\tgethostname(hostname, 30);\n",
        "\tprintf(\"I got %d from %d - %s\\n\", myresult, myid, hostname); /* Compute global sum */\n",
        "\tMPI_Reduce(&myresult, &result, 1, MPI_INT, MPI_SUM, 0, MPI_COMM_WORLD);\n",
        "\tif (myid == 0) printf(\"The sum is %d.\\n\", result);\n",
        "\tMPI_Finalize();\n",
        "\treturn 0;\n",
        "}\n",
        "\n"
      ],
      "metadata": {
        "id": "IjyITTZb8X4b",
        "outputId": "5cbbadf2-0514-4d57-c418-3b8d592d2a1e",
        "colab": {
          "base_uri": "https://localhost:8080/"
        }
      },
      "execution_count": 2,
      "outputs": [
        {
          "output_type": "stream",
          "name": "stdout",
          "text": [
            "Writing teste-mpi.c\n"
          ]
        }
      ]
    },
    {
      "cell_type": "code",
      "source": [
        "!mpicc -o teste-mpi teste-mpi.c"
      ],
      "metadata": {
        "id": "e2YZ_O_e8y9s"
      },
      "execution_count": 3,
      "outputs": []
    },
    {
      "cell_type": "code",
      "source": [
        "!mpirun --localhost --allow-run-as-root -n 4 ./teste-mpi"
      ],
      "metadata": {
        "id": "2bGIuJ1q85NZ",
        "outputId": "8433d1cc-ed37-46c5-9314-3633c5a9ee59",
        "colab": {
          "base_uri": "https://localhost:8080/"
        }
      },
      "execution_count": 6,
      "outputs": [
        {
          "output_type": "stream",
          "name": "stdout",
          "text": [
            "mpirun: Error: unknown option \"--localhost\"\n",
            "Type 'mpirun --help' for usage.\n"
          ]
        }
      ]
    }
  ]
}